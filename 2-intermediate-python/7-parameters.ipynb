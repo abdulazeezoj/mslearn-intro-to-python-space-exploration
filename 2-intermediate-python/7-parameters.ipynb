{
  "cells": [
    {
      "cell_type": "markdown",
      "source": [
        "Another interesting aspect of functions is that variables created inside them exist only inside the function. For example, this code would fail because we create the `rocketNumber` variable inside the function and then try to use it outside the function. Python doesn't know about that variable outside the function so it returns an error.\n",
        "\n",
        "Run this code cell to see the error produced by attempting to use a variable that only exists within the scope of the function:"
      ],
      "metadata": {}
    },
    {
      "cell_type": "code",
      "source": [
        "def OutputRocketText():\r\n",
        "    rocketNumber = 1\r\n",
        "    print(\"Rocket will launch soon!\")\r\n",
        "\r\n",
        "    return\r\n",
        "\r\n",
        "OutputRocketText()\r\n",
        "print(rocketNumber)"
      ],
      "outputs": [],
      "execution_count": null,
      "metadata": {}
    },
    {
      "cell_type": "markdown",
      "source": [
        "In addition, if you have variables created outside a function, you can access them inside a function but you can't change them.\n",
        "\n",
        "Run this code cell to see the error produced when you attempt to do this:"
      ],
      "metadata": {}
    },
    {
      "cell_type": "code",
      "source": [
        "rocketText = \"We will launch in\"\n",
        "def OutputRocketText():\n",
        "    rocketText = rocketText + \" two days\"\n",
        "    return\n",
        "\n",
        "OutputRocketText()"
      ],
      "outputs": [],
      "execution_count": null,
      "metadata": {}
    },
    {
      "cell_type": "markdown",
      "source": [
        "As you can see, this code produces an error as well, because we are trying to modify a variable that was created outside a function.\n",
        "\n",
        "To combat this, we can do one of two things:\n",
        "\n",
        "- Make a variable a global variable\n",
        "- Give a variable to the function, so it knows what the variable is, and then return it\n",
        "\n",
        "The easiest way to change the value of a variable inside a function is to make it a global variable. Everything in the program can modify a global variable, even if it is modified inside a function. To make something a global variable, you must create a variable before you call the function and then include a line in your function that gives the global variable name:"
      ],
      "metadata": {}
    },
    {
      "cell_type": "code",
      "source": [
        "rocketText = \"We will launch in\"\n",
        "\n",
        "def OutputRocketText():\n",
        "    global rocketText\n",
        "    rocketText = rocketText + \" two days\"\n",
        "    return\n",
        "\n",
        "OutputRocketText()\n",
        "print(rocketText)"
      ],
      "outputs": [],
      "execution_count": null,
      "metadata": {}
    },
    {
      "cell_type": "markdown",
      "source": [
        "Another way to modify variables inside a function is to use parameters. Parameters give a function knowledge of a variable when you call it. To tell Python you want your functions to have parameters, use the following code.\n",
        "\n",
        "Try running this code cell to see that this works."
      ],
      "metadata": {}
    },
    {
      "cell_type": "code",
      "source": [
        "def OutputRocketText(textInput):\n",
        "    textInput = textInput + \" two days\"\n",
        "    return textInput\n",
        "\n",
        "rocketText = \"We will launch in\"\n",
        "newRocketText = OutputRocketText(rocketText)\n",
        "print(newRocketText)"
      ],
      "outputs": [],
      "execution_count": null,
      "metadata": {}
    },
    {
      "cell_type": "markdown",
      "source": [
        "You can then use that variable inside the function, but it'll have a new name, which is the name inside the parentheses. Also, the function only changes this new variable inside the function. To get the value from the function variable back into the code outside the function, you must return it. Do this by adding the variable name after the return keyword."
      ],
      "metadata": {}
    }
  ],
  "metadata": {
    "kernelspec": {
      "display_name": "py37_default",
      "language": "python",
      "name": "conda-env-py37_default-py"
    },
    "language_info": {
      "name": "python",
      "version": "3.7.6"
    },
    "orig_nbformat": 2,
    "nteract": {
      "version": "nteract-front-end@1.0.0"
    }
  },
  "nbformat": 4,
  "nbformat_minor": 2
}