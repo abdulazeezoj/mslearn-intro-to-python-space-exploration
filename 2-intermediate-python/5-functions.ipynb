{
  "cells": [
    {
      "cell_type": "markdown",
      "source": [
        "We can use functions to make our code easier to read and easier to reuse. For example, if you wrote code to count the number of basalt rocks, it would probably be almost identical to the code needed to count highland rocks. Instead of making an `if` statement to check the type of every single space rock, we can write a function for the space rocks and it can run the same code to check which type of rock it is each time.\n",
        "\n",
        "`Print()` is an example of a function where the code that displays output to the screen is the same, and the only difference is what you want to display. In this unit, you'll learn how to write your own function.\n",
        "\n",
        "To create a function in Python, we must first tell Python that it is a function. We use the word \"def\" to define a function (tell Python that the following code is a function). You must then include a name for your function, parenthesis, and a colon.\n",
        "\n",
        "Finally, at the end of your function, you must include the \"return\" key word. This tells Python the function is done and to return to the point where you called the function. Notice that all code within the function, including the `return` statement, should be indented.\n",
        "\n",
        "```python\n",
        "def NameOfFunction():\n",
        "\n",
        "  return\n",
        "```\n",
        "\n",
        "Now let's play around with an example of making our own functions.\n",
        "\n",
        "Run this code cell to see how functions work:"
      ],
      "metadata": {}
    },
    {
      "cell_type": "code",
      "source": [
        "def OutputRocketText():\r\n",
        "  print(5)\r\n",
        "  print(4)\r\n",
        "  print(3)\r\n",
        "  print(2)\r\n",
        "  print(1)\r\n",
        "  print(\"Rocket will be launching soon!\")\r\n",
        "  \r\n",
        "  return\r\n",
        "\r\n",
        "OutputRocketText()"
      ],
      "outputs": [],
      "execution_count": null,
      "metadata": {}
    },
    {
      "cell_type": "markdown",
      "source": [
        "As you can see in the code, we start by defining a function that prints the countdown and rocket launch announcement. Then we add code that calls the function. If we had multiple rocket launches, we could just call the `OutputRocketText` function instead of typing out the whole print line. This would make our code much cleaner and less redundant."
      ],
      "metadata": {}
    }
  ],
  "metadata": {
    "kernelspec": {
      "display_name": "Python 3.8.5 64-bit",
      "name": "python385jvsc74a57bd0f9a8a1a5e47bc394320661481e146448fe3264d6a93503594fd40d92b7a8ba35"
    },
    "language_info": {
      "name": "python",
      "version": ""
    },
    "orig_nbformat": 2,
    "nteract": {
      "version": "nteract-front-end@1.0.0"
    }
  },
  "nbformat": 4,
  "nbformat_minor": 2
}