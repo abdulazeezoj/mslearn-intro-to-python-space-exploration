{
  "cells": [
    {
      "cell_type": "markdown",
      "source": [
        "In the real world, we'll sometimes only perform an action if a certain condition is met. This is the idea behind conditionals in coding. For example, we may want to launch a rocket only if the temperature is above 32 degrees fahrenheit.\n",
        "\n",
        "Let's start by learning about the different conditions we can check to help us decide whether to perform an action or not.\n",
        "\n",
        "## Conditions\n",
        "\n",
        "Conditions are things that need to be met before we change tasks. We can find out if a condition is met by comparing two values. To do this, we use something called logical operators. Logical operators return either `True`, if the statement is true, or `False`, if the statement is false. Remember: `True` and `False` values are called booleans.\n",
        "\n",
        "For example, if our condition is to check whether the temperature is above freezing (to see if a rocket launch would be delayed), our condition would be `temperature > 32`. This would give us `True` if the temperature is above freezing and `False` if the temperature is at or below freezing.\n",
        "\n",
        "Here are some common logical operators:\n",
        "\n",
        "- Equals: `x == y`\n",
        "- Not Equals: `x != y`\n",
        "- Less than: `x < y`\n",
        "- Less than or equal to: `x <= y`\n",
        "- Greater than: `x > y`\n",
        "- Greater than or equal: `x >= y`\n",
        "\n",
        "Try to play around with some logical operators in Jupyter Notebooks. Notice how the single equal sign and double equal signs have different meanings. The single equal sign assigns a value to a variable, while the double equal sign compares values. This difference is a common gotcha that a beginner programmer can face. \n",
        "\n",
        "Predict what will print in the following code cell, and then run the cell to make sure you've understood this concept. "
      ],
      "metadata": {}
    },
    {
      "cell_type": "code",
      "source": [
        "temp = 50\r\n",
        "print(temp >= 32)\r\n",
        "print(temp < 32)\r\n",
        "print(temp == 32)"
      ],
      "outputs": [],
      "execution_count": null,
      "metadata": {}
    },
    {
      "cell_type": "markdown",
      "source": [
        "You can also use these operators on other variable types. Run this code cell to compare strings."
      ],
      "metadata": {}
    },
    {
      "cell_type": "code",
      "source": [
        "rock = \"basalt\"\r\n",
        "print(\"highland\" == rock)\r\n",
        "print(\"basalt\" == rock)"
      ],
      "outputs": [],
      "execution_count": null,
      "metadata": {}
    },
    {
      "cell_type": "markdown",
      "source": [
        "For reasons that are beyond the scope of this module, sometimes when comparing variables, you must use commands like `in`. This just checks whether a word is inside the variable."
      ],
      "metadata": {}
    },
    {
      "cell_type": "code",
      "source": [
        "rock = \"basaltrock\"\r\n",
        "print(\"highland\" in rock)\r\n",
        "print(\"basalt\" in rock)"
      ],
      "outputs": [],
      "execution_count": null,
      "metadata": {}
    },
    {
      "cell_type": "markdown",
      "source": [
        "Now that we know how to write the conditions to determine whether we want an action to execute, we can begin to specify what action we want to occur."
      ],
      "metadata": {}
    }
  ],
  "metadata": {
    "kernelspec": {
      "display_name": "py37_default",
      "language": "python",
      "name": "conda-env-py37_default-py"
    },
    "language_info": {
      "name": "python",
      "version": ""
    },
    "orig_nbformat": 2,
    "nteract": {
      "version": "nteract-front-end@1.0.0"
    }
  },
  "nbformat": 4,
  "nbformat_minor": 2
}