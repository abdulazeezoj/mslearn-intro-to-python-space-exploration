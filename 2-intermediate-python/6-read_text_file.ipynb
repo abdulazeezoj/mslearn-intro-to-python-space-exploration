{
  "cells": [
    {
      "cell_type": "markdown",
      "source": [
        "In many applications of Python, you'll need to use data from an external source, such as:\n",
        "\n",
        "- An Excel file with data tracking the various parts of a rocket\n",
        "- A text file to read the rocks that a moon rover sees\n",
        "\n",
        "In this unit, we'll learn how to read and write data from a text file using built-in Python functions.\n",
        "\n",
        "## Setting up data\n",
        "\n",
        "The first step is to create the file we want to read. You could also use an existing file; just place it in the same folder as the notebook you're running.\n",
        "\n",
        "We'll first create the variable `strPath` to hold the filename \"text.txt\"."
      ],
      "metadata": {}
    },
    {
      "cell_type": "code",
      "source": [
        "strPath = \"text.txt\""
      ],
      "outputs": [],
      "execution_count": 1,
      "metadata": {}
    },
    {
      "cell_type": "markdown",
      "source": [
        "Next, we'll use the `open()` function to create the file in Python. We'll make a new variable named `fileObject` to hold the data. The file will be created in the local folder, which is most often the same folder as the notebook.\n",
        "\n",
        "Notice that the second parameter is a string with the value \"w\". This indicates to _create_ or _overwrite_ any existing file. You can also pass \"a\" to append to a file, or omit the parameter to only allow read operations."
      ],
      "metadata": {}
    },
    {
      "cell_type": "code",
      "source": [
        "fileObject = open(strPath, \"w\")"
      ],
      "outputs": [],
      "execution_count": 2,
      "metadata": {}
    },
    {
      "cell_type": "markdown",
      "source": [
        "Next, let's use the `write()` function to write some text to the file. We want multiple lines, so we'll add a \"\\n\" character to the end of each string."
      ],
      "metadata": {
        "nteract": {
          "transient": {
            "deleting": false
          }
        }
      }
    },
    {
      "cell_type": "code",
      "source": [
        "fileObject.write(\"First Astronaut on the moon\\n\")\n",
        "fileObject.write(\"Neil Armstrong\\n\")"
      ],
      "outputs": [
        {
          "output_type": "execute_result",
          "execution_count": 3,
          "data": {
            "text/plain": "15"
          },
          "metadata": {}
        }
      ],
      "execution_count": 3,
      "metadata": {
        "collapsed": true,
        "jupyter": {
          "source_hidden": false,
          "outputs_hidden": false
        },
        "nteract": {
          "transient": {
            "deleting": false
          }
        }
      }
    },
    {
      "cell_type": "markdown",
      "source": [
        "Lastly, we need to _close_ the file. This flushes any data that hasn't been written to the file on disk yet."
      ],
      "metadata": {
        "nteract": {
          "transient": {
            "deleting": false
          }
        }
      }
    },
    {
      "cell_type": "code",
      "source": [
        "fileObject.close()"
      ],
      "outputs": [],
      "execution_count": 4,
      "metadata": {
        "collapsed": true,
        "jupyter": {
          "source_hidden": false,
          "outputs_hidden": false
        },
        "nteract": {
          "transient": {
            "deleting": false
          }
        }
      }
    },
    {
      "cell_type": "markdown",
      "source": [
        "Now, let's do the same basic operations, but _read_ back the contents of the file. We'll use the same filename, but open the file for reading this time."
      ],
      "metadata": {
        "nteract": {
          "transient": {
            "deleting": false
          }
        }
      }
    },
    {
      "cell_type": "code",
      "source": [
        "fileObject = open(strPath)"
      ],
      "outputs": [],
      "execution_count": 5,
      "metadata": {
        "collapsed": true,
        "jupyter": {
          "source_hidden": false,
          "outputs_hidden": false
        },
        "nteract": {
          "transient": {
            "deleting": false
          }
        }
      }
    },
    {
      "cell_type": "markdown",
      "source": [
        "Finally, we'll have Python read this `fileObject` variable to give us a list of strings that we can explore with Python functions by using the `readlines()` function. The `readlines()` function takes each line of the text file and makes it an entry in a list. We'll store this list in another variable so we can print it out later. It's also good practice to close the `fileObject` when you're done with it. Remember, we do this by calling `close()`."
      ],
      "metadata": {}
    },
    {
      "cell_type": "code",
      "source": [
        "textList = fileObject.readlines()\r\n",
        "fileObject.close()"
      ],
      "outputs": [],
      "execution_count": 6,
      "metadata": {}
    },
    {
      "cell_type": "markdown",
      "source": [
        "Now that we've read the file, we can print the contents of the file by iterating over the list:"
      ],
      "metadata": {}
    },
    {
      "cell_type": "code",
      "source": [
        "for line in textList:\r\n",
        "    print(line)"
      ],
      "outputs": [
        {
          "output_type": "stream",
          "name": "stdout",
          "text": "First Astronaut on the moon\n\nNeil Armstrong\n\n"
        }
      ],
      "execution_count": 7,
      "metadata": {}
    },
    {
      "cell_type": "markdown",
      "source": [
        "The example above teaches us how to read the full data into Python. We can also read a text file and only go through certain parts of. This is called \"parsing\" in programming. To parse through the text we just imported, let's go line by line and print every line out. Since every line is an element in our list, we can get the first line by looking at the first element in the list."
      ],
      "metadata": {}
    },
    {
      "cell_type": "code",
      "source": [
        "firstLine = textList[0]\r\n",
        "print(firstLine)"
      ],
      "outputs": [
        {
          "output_type": "stream",
          "name": "stdout",
          "text": "First Astronaut on the moon\n\n"
        }
      ],
      "execution_count": 8,
      "metadata": {}
    },
    {
      "cell_type": "markdown",
      "source": [
        "To read the second line from the text file, just get the second item in the list."
      ],
      "metadata": {}
    },
    {
      "cell_type": "code",
      "source": [
        "secondLine = textList[1]\r\n",
        "print(secondLine)"
      ],
      "outputs": [
        {
          "output_type": "stream",
          "name": "stdout",
          "text": "Neil Armstrong\n\n"
        }
      ],
      "execution_count": 9,
      "metadata": {}
    }
  ],
  "metadata": {
    "kernelspec": {
      "name": "conda-env-py37_default-py",
      "language": "python",
      "display_name": "py37_default"
    },
    "language_info": {
      "name": "python",
      "version": "3.7.9",
      "mimetype": "text/x-python",
      "codemirror_mode": {
        "name": "ipython",
        "version": 3
      },
      "pygments_lexer": "ipython3",
      "nbconvert_exporter": "python",
      "file_extension": ".py"
    },
    "orig_nbformat": 2,
    "kernel_info": {
      "name": "conda-env-py37_default-py"
    },
    "nteract": {
      "version": "nteract-front-end@1.0.0"
    }
  },
  "nbformat": 4,
  "nbformat_minor": 2
}