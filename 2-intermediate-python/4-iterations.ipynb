{
  "cells": [
    {
      "cell_type": "markdown",
      "source": [
        "Iterations, in programming, let coders repeat a set of instructions until a condition is met. Think about this as being stuck in a loop that will continue until something tells you to break out.\n",
        "\n",
        "## While loop\n",
        "\n",
        "The `while` loop is one of two iteration types you'll learn about. In this loop, you must specify a condition first and then include the code that you want the loop to iterate over. The loop first checks if the condition is `True` and if it is, then it looks at the code inside the loop. When the condition becomes `False`, the code in the loop is skipped over and the program continues executing the rest of your code.\n",
        "\n",
        "If the condition in the loop is `False` to begin with, the code within the loop never executes. During a single loop, the program then goes through the loop and runs the code. Once the code is finished, it looks back at the condition to see if it is still `True`. It's necessary to change the variables in your loop to eventually have a condition that is `False`, or else an infinite loop will occur.\n",
        "\n",
        "As shown in the code below, to write a `while` loop, you must first type \"while\" and then the condition you'll check before every loop. End the line with a colon and be sure to indent the next line, which will be the actual loop. The code below prints out a countdown for a rocket. As you can see, the countdown variable in the condition section decreases in every loop until it reaches -1, at which point the condition is `False` and the loop ends.\n",
        "\n",
        "Predict what will happen when you run this code, then click the run button to verify you've understood."
      ],
      "metadata": {}
    },
    {
      "cell_type": "code",
      "source": [
        "countdown = 5\r\n",
        "\r\n",
        "while countdown >= 0:\r\n",
        "    print(countdown)\r\n",
        "    countdown = countdown - 1  \r\n",
        "print(\"Lift Off\")"
      ],
      "outputs": [],
      "execution_count": null,
      "metadata": {}
    },
    {
      "cell_type": "markdown",
      "source": [
        "In the following example, the condition is never met and the loop continues forever (if we don't stop it). In this code, the developer forgot to decrease the timer variable, so the condition is always true."
      ],
      "metadata": {}
    },
    {
      "cell_type": "code",
      "source": [
        "# Trying to find life outside our planet\r\n",
        "timer = 10\r\n",
        "while  timer > 0:\r\n",
        "    print(\"Hello, I am from Earth\")"
      ],
      "outputs": [],
      "execution_count": null,
      "metadata": {}
    },
    {
      "cell_type": "markdown",
      "source": [
        "This is an infinite loop and you must either wait for Python to terminate it or select the stop button at the top of the window. It's best to avoid infinite loops, if that wasn't already apparent.\n",
        "\n",
        "## For loop\n",
        "\n",
        "`For` loops essentially perform the same task as `while` loops: they tend to focus on iterating a set number of times. `For` loops are great when you want to go through a list and look at every single element. In the code below, we make a list and then go through all the elements and print them out."
      ],
      "metadata": {}
    },
    {
      "cell_type": "code",
      "source": [
        "planets = \"Mars\", \"Saturn\", \"Jupiter\"\n",
        "\n",
        "for planet in planets:\n",
        "    print(planet)"
      ],
      "outputs": [],
      "execution_count": null,
      "metadata": {}
    }
  ],
  "metadata": {
    "kernelspec": {
      "display_name": "py37_default",
      "language": "python",
      "name": "conda-env-py37_default-py"
    },
    "language_info": {
      "name": "python",
      "version": ""
    },
    "orig_nbformat": 2,
    "nteract": {
      "version": "nteract-front-end@1.0.0"
    }
  },
  "nbformat": 4,
  "nbformat_minor": 2
}