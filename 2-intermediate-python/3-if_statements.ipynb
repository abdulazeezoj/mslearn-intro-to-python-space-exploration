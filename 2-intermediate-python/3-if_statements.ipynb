{
  "cells": [
    {
      "cell_type": "markdown",
      "source": [
        "We use conditional statements to tell the computer what to do if some condition is or isn't met: do this; if not, do something else.\n",
        "\n",
        "## If statement\n",
        "\n",
        "The most basic conditional statement is the `if` statement. The `if` statement checks whether a condition is true or not true. If the condition is true, the `if` statement runs the code that's defined inside the statement. If the condition is not true, any code that's defined inside the `if` statement is skipped.\n",
        "\n",
        "Some real world examples are:\n",
        "\n",
        "- If the temperature is above freezing, the rocket will launch.\n",
        "- If oxygen levels drop, grab a space suit and oxygen tank.\n",
        "\n",
        "In Python, the format for an `if` statement is:\n",
        "\n",
        "```python\n",
        "if(conditionToTestIsTrue):\n",
        "    doSomething\n",
        "```\n",
        "\n",
        "It's necessary to include the colon `:` at the end of the `if` statement, and also to indent each line of code that's defined inside the `if` statement. The indented lines of code will run when the `if` condition evaluates to `True`.\n",
        "\n",
        "The following example shows how to use an `if` statement in Python. We use the `if` statement to test whether the count of basalt rocks is 0. If the count is 0, both `print()` statements run and display their output. If the count of rocks is not 0, the first `print()` statement is skipped, and only the second `print()` statement runs."
      ],
      "metadata": {}
    },
    {
      "cell_type": "code",
      "source": [
        "basalt = 0\r\n",
        "if(basalt == 0):\r\n",
        "    print(\"We have found no basalt rocks.\")\r\n",
        "print(\"Done checking basalt rocks.\")"
      ],
      "outputs": [],
      "execution_count": null,
      "metadata": {}
    },
    {
      "cell_type": "code",
      "source": [
        "basalt = 1\r\n",
        "if(basalt == 0):\r\n",
        "    print(\"We have found no basalt rocks.\")\r\n",
        "print(\"Done checking basalt rocks.\")"
      ],
      "outputs": [],
      "execution_count": null,
      "metadata": {}
    },
    {
      "cell_type": "markdown",
      "source": [
        "Notice how the first code cell above printed \"We have found no basalt rocks.\" and \"Done checking basalt rocks.\" This occured because we assigned 0 to the varaible `basalt` and then the `if` statement compared the value of the variable `basalt` to 0, resulting in a true statement. Since the `if` statement is true, we run the code inside the `if` statement (printing the first sentence), then the code exits the `if` statement and prints the second sentence.\n",
        "\n",
        "The second code cell above prints \"Done checking basalt rocks.\" This occurred because we assigned 1 to the varaible `basalt` and are still comparing the value of the variable basalt to 0, resulting in a false statement. Since the `if` statement is false, we don't run the code inside the `if` statment, and move to the code that is after the `if` statement, which only prints the second sentence.\n",
        "\n",
        "## Else statement\n",
        "\n",
        "The `else` statement extends the `if` conditional statement and lets coders have more control over what happens depending on the condition result. An `else` statement must be written after an `if` statement. The program always executes the code that's defined inside the `else` statement when the condition in the `if` statement isn't met.\n",
        "\n",
        "Here's an example:"
      ],
      "metadata": {}
    },
    {
      "cell_type": "code",
      "source": [
        "basalt = 0\r\n",
        "if(basalt == 0):\r\n",
        "    print(\"We have found no basalt rocks.\")\r\n",
        "else:\r\n",
        "    print(\"We found some basalt rocks!\")\r\n",
        "print(\"Done checking basalt rocks.\")"
      ],
      "outputs": [],
      "execution_count": null,
      "metadata": {}
    },
    {
      "cell_type": "code",
      "source": [
        "basalt = 5\r\n",
        "if(basalt == 0):\r\n",
        "    print(\"We have found no basalt rocks.\")\r\n",
        "else:\r\n",
        "    print(\"We found some basalt rocks!\")\r\n",
        "print(\"Done checking basalt rocks.\")"
      ],
      "outputs": [],
      "execution_count": null,
      "metadata": {}
    },
    {
      "cell_type": "markdown",
      "source": [
        "Notice in the above two code cell examples, they're similar to the first two code cells in this notebook. But this time, if the statement is false, the code enters the `else` statement and prints that sentence. So each code cell above will print two sentences, depending on if there were no basalt rocks or at least 1 basalt rock.\n",
        "\n",
        "## Else-if statement\n",
        "\n",
        "Python also supports `else-if` (elif) checks, for further control on actions based on data. The `elif` statement is written after an `if` statement and before an `else` statement. You can have as many `elif` statements as you want between the initial `if` statement and the final `else` statement.\n",
        "\n",
        "The `elif` statement is just another `if` statement. When the conditions in the initial `if` statement aren't met, the program checks whether the conditions in the next `elif` statement are met. When the conditions for the `elif` statement are met, the code that's defined inside the `elif` statement is run. Any code that's defined in a subsequent `elif` or `else` statement is skipped.\n",
        "\n",
        "Here's an example of how an `elif` statement is used. Predict what will happen and then run the code cell to make sure you've understood it:"
      ],
      "metadata": {}
    },
    {
      "cell_type": "code",
      "source": [
        "basalt = 1\r\n",
        "if(basalt == 0):\r\n",
        "    print(\"We found no basalt rocks.\")\r\n",
        "elif(basalt == 1):\r\n",
        "    print(\"We found exactly 1 basalt rock.\")\r\n",
        "else:\r\n",
        "    print(\"We found more than 1 basalt rock!\")\r\n",
        "print(\"Done checking basalt rocks.\")"
      ],
      "outputs": [],
      "execution_count": null,
      "metadata": {}
    },
    {
      "cell_type": "markdown",
      "source": [
        "Notice that this is very similar to the previous examples in this notebook. The difference is we do a second check to see if we have found exactly 1 basalt rock. \n",
        "\n",
        "Try changing `basalt = 1` to other values; for example, `basalt = 0` or `basalt = 5`."
      ],
      "metadata": {}
    }
  ],
  "metadata": {
    "kernelspec": {
      "display_name": "py37_default",
      "language": "python",
      "name": "conda-env-py37_default-py"
    },
    "language_info": {
      "name": "python",
      "version": ""
    },
    "orig_nbformat": 2,
    "nteract": {
      "version": "nteract-front-end@1.0.0"
    }
  },
  "nbformat": 4,
  "nbformat_minor": 2
}