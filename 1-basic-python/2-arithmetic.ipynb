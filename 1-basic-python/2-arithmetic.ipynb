{
  "cells": [
    {
      "cell_type": "markdown",
      "source": [
        "Math is used frequently in computer science. The concepts you'll learn in this module will be great tools to add to your coding arsenal. Python has features that let you do many different mathematical computations.\n",
        "\n",
        "## Simple calculations\n",
        "\n",
        "As with a calculator, you can use the addition `+` , subtraction `-` , multiplication `* `, and division `/` operators in Python to add, subtract, multiply, and divide numbers.\n",
        "\n",
        "For example, run the following cells by selecting the run button to see the output."
      ],
      "metadata": {}
    },
    {
      "cell_type": "code",
      "source": [
        "# Combine two piles of space rocks\n",
        "3 + 6"
      ],
      "outputs": [],
      "execution_count": null,
      "metadata": {}
    },
    {
      "cell_type": "code",
      "source": [
        "# Lose three units of oxygen\r\n",
        "15 - 3"
      ],
      "outputs": [],
      "execution_count": null,
      "metadata": {}
    },
    {
      "cell_type": "code",
      "source": [
        "# Find how far a rocket has gone by multiplying speed by time travelling\n",
        "17000 * 2"
      ],
      "outputs": [],
      "execution_count": null,
      "metadata": {}
    },
    {
      "cell_type": "code",
      "source": [
        "# Determine number of rocks per pile if we separate 100 space rocks in 4 even piles\n",
        "100 / 4"
      ],
      "outputs": [],
      "execution_count": null,
      "metadata": {}
    },
    {
      "cell_type": "markdown",
      "source": [
        "Furthermore, just like with calculators, the order of operations are considered when coding with Python. You can use parentheses to combat this issue.\n",
        "\n",
        "If you are following along using Visual Studio Code, you can copy the following code into a Notebook cell and run it. Otherwise, you can run this code directly on this page! Notice how you get two different results."
      ],
      "metadata": {}
    },
    {
      "cell_type": "code",
      "source": [
        "2 + 5 * 3"
      ],
      "outputs": [],
      "execution_count": null,
      "metadata": {}
    },
    {
      "cell_type": "code",
      "source": [
        "(2 + 5) * 3"
      ],
      "outputs": [],
      "execution_count": null,
      "metadata": {}
    },
    {
      "cell_type": "markdown",
      "source": [
        "You get two different results because the order of operations computes multiplication and division before addition and subtraction.\n",
        "\n",
        "## More advanced math\n",
        "\n",
        "Python can also compute more advanced calculations.\n",
        "\n",
        "To calculate a remainder value when doing division, use the modulus `%` operator (the percent sign):"
      ],
      "metadata": {}
    },
    {
      "cell_type": "code",
      "source": [
        "# How many rocks remain when we divide 10 rocks into 3 even piles?\n",
        "10 % 3"
      ],
      "outputs": [],
      "execution_count": null,
      "metadata": {}
    },
    {
      "cell_type": "markdown",
      "source": [
        "To calculate exponents, use the exponential operator `**`, which is two asterisks:"
      ],
      "metadata": {}
    },
    {
      "cell_type": "code",
      "source": [
        "# The moon is just under 10^5.37 miles away\r\n",
        "10 ** 5.37"
      ],
      "outputs": [],
      "execution_count": null,
      "metadata": {}
    },
    {
      "cell_type": "markdown",
      "source": [
        "To leave off the remainder value when doing division, use the remainder operator `//`, which is two forward slash marks:"
      ],
      "metadata": {}
    },
    {
      "cell_type": "code",
      "source": [
        "# How many even piles of 2 we can make with 5 rocks?\n",
        "5 // 2"
      ],
      "outputs": [],
      "execution_count": null,
      "metadata": {}
    }
  ],
  "metadata": {
    "kernelspec": {
      "display_name": "py37_default",
      "language": "python",
      "name": "conda-env-py37_default-py"
    },
    "language_info": {
      "name": "python",
      "version": ""
    },
    "orig_nbformat": 2,
    "nteract": {
      "version": "nteract-front-end@1.0.0"
    }
  },
  "nbformat": 4,
  "nbformat_minor": 2
}