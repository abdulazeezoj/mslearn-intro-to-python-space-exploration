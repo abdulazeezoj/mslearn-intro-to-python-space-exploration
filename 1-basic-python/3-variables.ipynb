{
  "cells": [
    {
      "cell_type": "markdown",
      "source": [
        "In this unit, you'll learn about variables in Python. Variables are containers that you can store data in and use at a different time.\n",
        "\n",
        "There are four main types of data variables that you'll encounter throughout this content:\n",
        "\n",
        "- Integers (int): Whole numbers, like 1, 4, 10, -5.\n",
        "- Floats: Decimal numbers, like 0.3, 1.6, 17.4, -3.5.\n",
        "- String: Chains of characters that are surrounded by single or double quotes, like \"hi\", \"NASA\", \"Space Rocks\", \"54321\".\n",
        "- Boolean: Represents either True or False.\n",
        "\n",
        "Try running this code to create some of your own variables. Note that you won't see any output in the cell:"
      ],
      "metadata": {}
    },
    {
      "cell_type": "code",
      "source": [
        "# Integer Variable\r\n",
        "numberOfRocks = 5\r\n",
        "\r\n",
        "# Float Variable\r\n",
        "tempInSpace = -457.87\r\n",
        "\r\n",
        "# String Variable\r\n",
        "roverName = \"Artemis Rover\"\r\n",
        "\r\n",
        "# Boolean Variable\r\n",
        "rocketOn = False"
      ],
      "outputs": [],
      "execution_count": null,
      "metadata": {}
    },
    {
      "cell_type": "markdown",
      "source": [
        "When you have created your variables, you can view the values by writing the variable's name and selecting the run button."
      ],
      "metadata": {}
    },
    {
      "cell_type": "code",
      "source": [
        "roverName"
      ],
      "outputs": [],
      "execution_count": null,
      "metadata": {}
    },
    {
      "cell_type": "markdown",
      "source": [
        "A unique aspect of Python is that you don't need to tell the program what type of variable you're making. For example, in some languages, if you want to make an integer, you must first let the computer know that you're about to create an integer. In Java, for example, you might write: \r\n",
        "\r\n",
        "`int intVar = 0;`.\r\n",
        "\r\n",
        "Later on in our program, we'll be using variables to store the number of a certain type of rock we find. One of the main types of moon rock is called basalt. We can make a variable named `basaltRockCount` and give it a value of 0 by using the following code:"
      ],
      "metadata": {}
    },
    {
      "cell_type": "code",
      "source": [
        "# Create integer variable named basaltRockCount with value 0\r\n",
        "basaltRockCount = 0"
      ],
      "outputs": [],
      "execution_count": null,
      "metadata": {}
    },
    {
      "cell_type": "markdown",
      "source": [
        "We can also change the value of the variable:"
      ],
      "metadata": {}
    },
    {
      "cell_type": "code",
      "source": [
        "basaltRockCount = 3\r\n",
        "basaltRockCount = basaltRockCount + 1\r\n",
        "basaltRockCount"
      ],
      "outputs": [],
      "execution_count": null,
      "metadata": {}
    },
    {
      "cell_type": "markdown",
      "source": [
        "This can be useful if we want to inform the computer that we've found three rocks so far and we've just found another.\r\n",
        "\r\n",
        "An easy way to perform an operation on a variable is to use the operation you want to apply and then add an equal sign after it. This will perform the action and set the variable to the new value. For example:"
      ],
      "metadata": {}
    },
    {
      "cell_type": "code",
      "source": [
        "basaltRockCount = 5\r\n",
        "basaltRockCount += 3 #Add 3\r\n",
        "basaltRockCount -= 2 #Remove 2"
      ],
      "outputs": [],
      "execution_count": null,
      "metadata": {}
    },
    {
      "cell_type": "markdown",
      "source": [
        "Finally, you can use all of the arithmetic examples we've used so far with variables."
      ],
      "metadata": {}
    },
    {
      "cell_type": "code",
      "source": [
        "# Find out how many miles until rocket reaches moon\r\n",
        "distanceToMoon = 238855\r\n",
        "distanceTraveled = 10234\r\n",
        "distanceToMoon - distanceTraveled"
      ],
      "outputs": [],
      "execution_count": null,
      "metadata": {}
    },
    {
      "cell_type": "markdown",
      "source": [
        "Although you can give a variable any name, it's recommended that you choose something that represents the data it holds. For example, you could have written the above code as:"
      ],
      "metadata": {}
    },
    {
      "cell_type": "code",
      "source": [
        "# Find out how many miles until rocket reaches moon\r\n",
        "a = 238855\r\n",
        "b = 10234\r\n",
        "a - b"
      ],
      "outputs": [],
      "execution_count": null,
      "metadata": {}
    },
    {
      "cell_type": "markdown",
      "source": [
        "This code is likely to be confusing because `a` and `b` could represent numbers, rather than the values intended. Using `distanceToMoon` and `distanceTraveled` is clearer."
      ],
      "metadata": {}
    }
  ],
  "metadata": {
    "kernelspec": {
      "name": "conda-env-py37_default-py",
      "language": "python",
      "display_name": "py37_default"
    },
    "language_info": {
      "name": "python",
      "version": ""
    },
    "orig_nbformat": 2,
    "nteract": {
      "version": "nteract-front-end@1.0.0"
    }
  },
  "nbformat": 4,
  "nbformat_minor": 2
}