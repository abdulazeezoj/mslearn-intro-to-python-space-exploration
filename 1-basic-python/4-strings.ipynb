{
  "cells": [
    {
      "cell_type": "markdown",
      "source": [
        "Strings are one of the most unusual of all variables because they can take on almost any key on your keyboard. Python also has much pre-made code (called functions) that you can call to manipulate your strings in various ways.\n",
        "\n",
        "Let's start by making a string variable in your notebook. Run the following code cell:"
      ],
      "metadata": {}
    },
    {
      "cell_type": "code",
      "source": [
        "astronaut = \"Stanley G Love\""
      ],
      "outputs": [],
      "execution_count": null,
      "metadata": {}
    },
    {
      "cell_type": "markdown",
      "source": [
        "Say that we want to have this astronaut's name in all caps to print on their space suit. Instead of having to make a new variable, we can use the .upper() function to print the name in capital letters. To call a function, type the variable followed by a period, the name of the function, and then parenthesis.\n",
        "\n",
        "Calling this upper function won't change the astronaut variable, since we want to preserve their name with the correct capitalization. You must set a new variable or current variable equal to the function that you've called."
      ],
      "metadata": {}
    },
    {
      "cell_type": "code",
      "source": [
        "upperCase = astronaut.upper()\n",
        "upperCase"
      ],
      "outputs": [],
      "execution_count": null,
      "metadata": {}
    },
    {
      "cell_type": "markdown",
      "source": [
        "In a similar way, we can call astronaut.lower() to make the string lower case."
      ],
      "metadata": {}
    },
    {
      "cell_type": "code",
      "source": [
        "lowerCase = astronaut.lower()\n",
        "lowerCase"
      ],
      "outputs": [],
      "execution_count": null,
      "metadata": {}
    },
    {
      "cell_type": "markdown",
      "source": [
        "Another cool string function we can use is called .capitalize(). This function makes the first letter of a sentence capitalized and everything else lower-case. Try running the code below to create a new variable and call the capitalize function."
      ],
      "metadata": {}
    },
    {
      "cell_type": "code",
      "source": [
        "rocketOutput = \"rOckEt iS A laUncH!\"\n",
        "rocketOutput.capitalize()"
      ],
      "outputs": [],
      "execution_count": null,
      "metadata": {}
    },
    {
      "cell_type": "markdown",
      "source": [
        "Another neat thing you can do with strings in Python is concatenate or add them together. If you have two string variables, you can add them together by using the + sign."
      ],
      "metadata": {}
    },
    {
      "cell_type": "code",
      "source": [
        "launchLocationCity = \"Cape Canaveral, \"\n",
        "launchLocationState = \"Florida\"\n",
        "launchLocationCity + launchLocationState"
      ],
      "outputs": [],
      "execution_count": null,
      "metadata": {}
    },
    {
      "cell_type": "markdown",
      "source": [
        "Finally, you can use the asterisk * sign to repeat a string multiple times."
      ],
      "metadata": {}
    },
    {
      "cell_type": "code",
      "source": [
        "artemisRoverSounds = \"beep beep \"\n",
        "artemisRoverSounds * 3"
      ],
      "outputs": [],
      "execution_count": null,
      "metadata": {}
    }
  ],
  "metadata": {
    "kernelspec": {
      "display_name": "py37_default",
      "language": "python",
      "name": "conda-env-py37_default-py"
    },
    "language_info": {
      "name": "python",
      "version": "3.7.6"
    },
    "orig_nbformat": 2,
    "nteract": {
      "version": "nteract-front-end@1.0.0"
    }
  },
  "nbformat": 4,
  "nbformat_minor": 2
}