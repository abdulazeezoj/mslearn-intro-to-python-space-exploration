{
  "cells": [
    {
      "cell_type": "markdown",
      "source": [
        "Now that we've created some variables and given them values, we can learn how to view the values beyond running a notebook cell. We'll use a function called print(). \n",
        "\n",
        "Notebooks are useful because each cell outputs the value of the final command without the need to use the print() function. However, it might be useful to print values or messages between larger code blocks, for debugging, logging, or informational purposes. Without the print() function, the cell prints only the last value:"
      ],
      "metadata": {}
    },
    {
      "cell_type": "code",
      "source": [
        "2 + 2\r\n",
        "5 + 3"
      ],
      "outputs": [],
      "execution_count": null,
      "metadata": {}
    },
    {
      "cell_type": "markdown",
      "source": [
        "The print() function, like the functions we called earlier when using strings, is code we can use that has been written by others. The print() function makes the computer write the values within the values you pass in as a parameter.\n",
        "\n",
        "Try to print some values by running this code cell:"
      ],
      "metadata": {}
    },
    {
      "cell_type": "code",
      "source": [
        "print(6)\r\n",
        "print(\"Hello World\")"
      ],
      "outputs": [],
      "execution_count": null,
      "metadata": {}
    },
    {
      "cell_type": "markdown",
      "source": [
        "Along with values, we can use the code below to print the value of a variable:"
      ],
      "metadata": {}
    },
    {
      "cell_type": "code",
      "source": [
        "numRocks = 15\r\n",
        "print(numRocks)"
      ],
      "outputs": [],
      "execution_count": null,
      "metadata": {}
    },
    {
      "cell_type": "markdown",
      "source": [
        "We can combine variables and strings by putting a comma between them:"
      ],
      "metadata": {}
    },
    {
      "cell_type": "code",
      "source": [
        "numBasalt = 4\r\n",
        "print(\"The number of Basalt rocks found:\", numBasalt)"
      ],
      "outputs": [],
      "execution_count": null,
      "metadata": {}
    },
    {
      "cell_type": "code",
      "source": [
        "date = \"February 26\"\r\n",
        "numRocks = 15\r\n",
        "print(\"On\", date, \"number of rocks found:\", numRocks)"
      ],
      "outputs": [],
      "execution_count": null,
      "metadata": {}
    },
    {
      "cell_type": "markdown",
      "source": [
        "The print function is very helpful, because the people using our programs can't always see our code or know how to read it. The print function lets us show them only the values we want them to see."
      ],
      "metadata": {}
    }
  ],
  "metadata": {
    "kernelspec": {
      "display_name": "py37_default",
      "language": "python",
      "name": "conda-env-py37_default-py"
    },
    "language_info": {
      "name": "python",
      "version": ""
    },
    "orig_nbformat": 2,
    "nteract": {
      "version": "nteract-front-end@1.0.0"
    }
  },
  "nbformat": 4,
  "nbformat_minor": 2
}