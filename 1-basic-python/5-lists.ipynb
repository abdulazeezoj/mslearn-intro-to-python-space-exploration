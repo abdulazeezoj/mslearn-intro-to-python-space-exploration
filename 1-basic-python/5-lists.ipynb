{
  "cells": [
    {
      "cell_type": "markdown",
      "source": [
        "Lists are ways to store a lot of data in Python and are similar to variables. They are a collection of values stored in the form of a list. Lists are useful in Python because often you'll need more than one piece of data.\n",
        "\n",
        "Lists play a huge role in data science, because the goal of data science is to take large amounts of related data and analyze it. That's why the popular data science Python packages, such as Pandas and NumPy, have additional data structures like dataframes and arrays, which are essentially lists with additional features.\n",
        "\n",
        "## How to make a list\n",
        "\n",
        "Defining lists in Python is similar to creating variables. However, lists can hold multiple values. Start by making a name for your list and then set it equal to a value. For example:"
      ],
      "metadata": {}
    },
    {
      "cell_type": "code",
      "source": [
        "# Create a list of common moon rocks\r\n",
        "rockTypes = [\"basalt\", \"highland\", \"breccia\"]\r\n",
        "rockTypes"
      ],
      "outputs": [],
      "execution_count": null,
      "metadata": {}
    },
    {
      "cell_type": "markdown",
      "source": [
        "As you can see, you must include square brackets and then include the values you want, separated by commas.\n",
        "\n",
        "Lists can have values that come in all forms (int, float, string) and can even mix and match different types. For example:"
      ],
      "metadata": {}
    },
    {
      "cell_type": "code",
      "source": [
        "# A list with rock names and the number of each rock that was found\n",
        "rockTypeAndCount = [\"basalt\", 1, \"highland\", 2.5, \"breccia\", 5]\n",
        "rockTypeAndCount"
      ],
      "outputs": [],
      "execution_count": null,
      "metadata": {}
    },
    {
      "cell_type": "markdown",
      "source": [
        "## List Functions\n",
        "\n",
        "There are many pre-made functions included in Python, which we can use to modify a list.\n",
        "\n",
        "For example, we can add items to a list by calling the .append() function followed by the data that we want to add in parentheses. Doing this adds an item to the end of a list. Let's add a rock type to our original list."
      ],
      "metadata": {}
    },
    {
      "cell_type": "code",
      "source": [
        "rockTypes.append(\"soil\")\r\n",
        "rockTypes"
      ],
      "outputs": [],
      "execution_count": null,
      "metadata": {}
    },
    {
      "cell_type": "markdown",
      "source": [
        "We can also delete items from the end of a list by calling the .pop() function. We'll now delete \"soil\" from the rock types list."
      ],
      "metadata": {}
    },
    {
      "cell_type": "code",
      "source": [
        "rockTypes.pop()\r\n",
        "rockTypes"
      ],
      "outputs": [],
      "execution_count": null,
      "metadata": {}
    },
    {
      "cell_type": "markdown",
      "source": [
        "Finally, we can look at and change the value from anywhere within the list. To see what a value is at a certain point in the list, use square brackets after the list name to look at that specific value. Everything in Python is zero-indexed, meaning that counting begins at 0, not 1. So if we look at the value in the first position in a list, we would use: `listName[0]`.  \n",
        "\n",
        "In our rock type example, use the following code to look at the value in the second position in the list:"
      ],
      "metadata": {}
    },
    {
      "cell_type": "code",
      "source": [
        "rockTypes[1]"
      ],
      "outputs": [],
      "execution_count": null,
      "metadata": {}
    },
    {
      "cell_type": "markdown",
      "source": [
        "We can also change a specific value in the list at a specific point by coding:\n",
        "\n",
        "`listName[position in list to change value] = newValue` \n",
        "\n",
        "In our rock type example, if we wanted to change the value in the third position of the list to be \"soil\", we could do so as follows:"
      ],
      "metadata": {}
    },
    {
      "cell_type": "code",
      "source": [
        "rockTypes[2] = \"soil\"\r\n",
        "rockTypes"
      ],
      "outputs": [],
      "execution_count": null,
      "metadata": {}
    },
    {
      "cell_type": "markdown",
      "source": [
        "Doing this changes the current value at this position in the list so the previous value will be gone."
      ],
      "metadata": {}
    }
  ],
  "metadata": {
    "kernelspec": {
      "name": "conda-env-py37_default-py",
      "language": "python",
      "display_name": "py37_default"
    },
    "language_info": {
      "name": "python",
      "version": ""
    },
    "orig_nbformat": 2,
    "nteract": {
      "version": "nteract-front-end@1.0.0"
    }
  },
  "nbformat": 4,
  "nbformat_minor": 2
}