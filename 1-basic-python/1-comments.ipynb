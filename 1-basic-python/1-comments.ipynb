{
  "cells": [
    {
      "cell_type": "markdown",
      "metadata": {},
      "source": [
        "Over the course of this module, we'll be using comments in our code. Learning how to use comments efficiently will greatly improve the readability of your code and help you learn programming topics faster.\n",
        "\n",
        "## What are comments?\n",
        "\n",
        "In programming, comments are words that the computer won't read when running the code. Their sole purpose is to help developers who are reading and writing code. Comments are great for explaining complex code to others, helping you remember what a certain part of your code does, and reminding you of what needs to be added to your code.\n",
        "\n",
        "## How to use comments\n",
        "\n",
        "In Python, comments are as simple as including the number sign (#) before the comment that you would like to add. Run the following cell by selecting the run button to see that nothing gets printed out."
      ]
    },
    {
      "cell_type": "code",
      "execution_count": null,
      "metadata": {},
      "outputs": [],
      "source": [
        "# This is a comment"
      ]
    },
    {
      "cell_type": "markdown",
      "metadata": {},
      "source": [
        "As noted previously, comments aren't run by the computer. If you look at the code below, 2 + 2 is commented out so the computer only recognizes and computes 2 + 3. Run this code in the cell by selecting the run button and note the results."
      ]
    },
    {
      "cell_type": "code",
      "execution_count": null,
      "metadata": {},
      "outputs": [],
      "source": [
        "# 2 + 2\n",
        "2 + 3"
      ]
    },
    {
      "cell_type": "markdown",
      "metadata": {},
      "source": [
        "> **Note:** You're not expected to know what the code below does. It's used solely for the purpose of showing comments.\n",
        "\n",
        "Another great use of comments is to add TODOs to let you know what still needs to be done. In this example, the comment is reminding a developer to finish a piece of code at a later time."
      ]
    },
    {
      "cell_type": "code",
      "execution_count": null,
      "metadata": {},
      "outputs": [],
      "source": [
        "# TODO Finish analyze space rock function\n",
        "def analyzeSpaceRock():\n",
        "    "
      ]
    },
    {
      "cell_type": "markdown",
      "metadata": {},
      "source": [
        "## Block comments\n",
        "\n",
        "Block comments are many lines of comments strung together. They can be useful to help explain code to a user who might be unfamiliar with the concepts you're using or to describe what an entire program does."
      ]
    },
    {
      "cell_type": "code",
      "execution_count": null,
      "metadata": {},
      "outputs": [],
      "source": [
        "# This code is a function that will take in\n",
        "# text and then see what type of space rock it is.\n",
        "# If the rock matches a certain type of rock\n",
        "# it will increase the count of that rock type by 1.\n",
        "# Basalt is a common type of rock found on the moon.\n",
        "\n",
        "def countRocks(rockText):\n",
        "    if(rockText == \"Basalt\"):\n",
        "        basalt = basalt + 1\n"
      ]
    },
    {
      "cell_type": "markdown",
      "metadata": {},
      "source": [
        "## Inline comments\n",
        "\n",
        "Inline comments are placed on the same line as written code. Use them sparingly because they can add clutter to your code. They're good at explaining a tricky line of code."
      ]
    },
    {
      "cell_type": "code",
      "execution_count": null,
      "metadata": {},
      "outputs": [],
      "source": [
        "rocketSpeed = 17000 # rocket speed needed to reach orbit"
      ]
    },
    {
      "cell_type": "markdown",
      "metadata": {},
      "source": [
        "Now that you have learned about comments, you can carry on to learn about using math in Python."
      ]
    }
  ],
  "metadata": {
    "kernelspec": {
      "display_name": "py37_default",
      "language": "python",
      "name": "conda-env-py37_default-py"
    },
    "language_info": {
      "name": "python",
      "version": ""
    },
    "nteract": {
      "version": "nteract-front-end@1.0.0"
    },
    "orig_nbformat": 2
  },
  "nbformat": 4,
  "nbformat_minor": 2
}
